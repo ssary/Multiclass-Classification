{
 "cells": [
  {
   "cell_type": "code",
   "execution_count": null,
   "metadata": {},
   "outputs": [],
   "source": [
    "import numpy as np\n",
    "from PIL import Image\n",
    "import os\n"
   ]
  },
  {
   "cell_type": "code",
   "execution_count": null,
   "metadata": {},
   "outputs": [],
   "source": [
    "trainN = 2400\n",
    "testN = 200\n",
    "curr = 1\n",
    "currClass = 0\n",
    "xTrain = []\n",
    "xTest = []\n",
    "yTrain = []\n",
    "yTest = []\n",
    "\n",
    "# convert Train images to 1D arrays and store them in xTrain\n",
    "# create the corresponding classes\n",
    "while(curr <= trainN):\n",
    "    img = Image.open(os.path.join(os.getcwd(), 'Data\\Train', f'{curr}.jpg'))\n",
    "    arr = np.array(img)\n",
    "    flatarr = arr.ravel()\n",
    "    xTrain.append(flatarr)\n",
    "    yTrain.append(currClass)\n",
    "    curr+=1\n",
    "    if curr % 240 == 1:\n",
    "        currClass+=1\n",
    "\n",
    "curr = 1\n",
    "currClass = 0\n",
    "\n",
    "# convert test images to 1D arrays and store them in xTest\n",
    "# create the corresponding classes in tests\n",
    "while(curr <= testN):\n",
    "    img = Image.open(os.path.join(os.getcwd(), 'Data\\Test', f'{curr}.jpg'))\n",
    "    arr = np.array(img)\n",
    "    flatarr = arr.ravel()\n",
    "    xTest.append(flatarr)\n",
    "    yTest.append(currClass)\n",
    "    curr+=1\n",
    "    if curr%20==1:\n",
    "        currClass+=1\n",
    "\n"
   ]
  },
  {
   "cell_type": "code",
   "execution_count": null,
   "metadata": {},
   "outputs": [],
   "source": [
    "xTelda = xTrain.copy()\n",
    "curr = 0\n",
    "\n",
    "# add 1 to the end of each image vector to be able to multiply with w0\n",
    "while(curr < trainN):\n",
    "    xTelda[curr] = np.append(xTelda[curr], 1)\n",
    "    curr+=1\n",
    "xTelda = np.array(xTelda)"
   ]
  },
  {
   "cell_type": "code",
   "execution_count": null,
   "metadata": {},
   "outputs": [],
   "source": [
    "curr = 0\n",
    "currClass = 0\n",
    "weights = []\n",
    "\n",
    "# equation: inverse(XTT.XT).XTT\n",
    "xTeldaTranspose = xTelda.transpose()\n",
    "xTeldaTranspose = np.array(xTeldaTranspose)\n",
    "multip = np.matmul(xTeldaTranspose, xTelda)\n",
    "inverse = np.linalg.pinv(multip)\n",
    "multip2 = np.matmul(inverse, xTeldaTranspose)\n",
    "\n",
    "while currClass <= 9:\n",
    "    # use One vs all that's mean we make the target of the current class only 1 and the rest is -1 ie.(isZero, isNotZero)\n",
    "    yCurrTrain = []\n",
    "    # convert to binary classification\n",
    "    curr = 0\n",
    "    while(curr < trainN):\n",
    "        if yTrain[curr] == currClass:\n",
    "            yCurrTrain.append(1)\n",
    "        else:\n",
    "            yCurrTrain.append(-1)\n",
    "        curr+=1\n",
    "    weightTelda = np.matmul(multip2, yCurrTrain)\n",
    "    weights.append(weightTelda)\n",
    "    currClass+=1\n"
   ]
  },
  {
   "cell_type": "code",
   "execution_count": null,
   "metadata": {},
   "outputs": [],
   "source": [
    "yCurrTrain == yTrain"
   ]
  },
  {
   "cell_type": "code",
   "execution_count": null,
   "metadata": {},
   "outputs": [],
   "source": [
    "weights[1]"
   ]
  },
  {
   "cell_type": "code",
   "execution_count": null,
   "metadata": {},
   "outputs": [],
   "source": [
    "# testing\n",
    "confusionMatrix = np.zeros((10,10))\n",
    "xTeldaTest = xTest.copy()\n",
    "curr = 0\n",
    "\n",
    "while(curr < testN):\n",
    "    xTeldaTest[curr] = np.append(xTeldaTest[curr], 1)\n",
    "    mxV = -10000\n",
    "    mxClass = 0\n",
    "    actualClass = yTest[curr]\n",
    "    for currClass in range(10):\n",
    "        currClassV = np.dot(xTeldaTest[curr].transpose(), weights[currClass])\n",
    "        print(curr, currClass, actualClass, currClassV)\n",
    "        if mxV < currClassV:\n",
    "            mxV = currClassV\n",
    "            mxClass = currClass\n",
    "\n",
    "    confusionMatrix[actualClass][mxClass] += 1\n",
    "\n",
    "    curr+=1\n",
    "print(confusionMatrix)\n"
   ]
  },
  {
   "cell_type": "code",
   "execution_count": null,
   "metadata": {},
   "outputs": [],
   "source": [
    "# plot confusion-matrix heatmap\n",
    "import seaborn as sns\n",
    "import matplotlib.pylab as plt\n",
    "ax = sns.heatmap(confusionMatrix, linewidth=0.5)\n",
    "plt.show()"
   ]
  }
 ],
 "metadata": {
  "kernelspec": {
   "display_name": "Python 3",
   "language": "python",
   "name": "python3"
  },
  "language_info": {
   "codemirror_mode": {
    "name": "ipython",
    "version": 3
   },
   "file_extension": ".py",
   "mimetype": "text/x-python",
   "name": "python",
   "nbconvert_exporter": "python",
   "pygments_lexer": "ipython3",
   "version": "3.9.4 (tags/v3.9.4:1f2e308, Apr  6 2021, 13:40:21) [MSC v.1928 64 bit (AMD64)]"
  },
  "vscode": {
   "interpreter": {
    "hash": "e84d50bf0dc77d6d835949192aad880530fc4b681efe95b4792b4e8c3767b7b2"
   }
  }
 },
 "nbformat": 4,
 "nbformat_minor": 2
}
